{
 "cells": [
  {
   "cell_type": "code",
   "execution_count": 1,
   "metadata": {},
   "outputs": [],
   "source": [
    "import pandas as pd\n"
   ]
  },
  {
   "cell_type": "code",
   "execution_count": 12,
   "metadata": {},
   "outputs": [],
   "source": [
    "sample_data = pd.read_excel (r'GikonkoSector.xlsx')"
   ]
  },
  {
   "cell_type": "code",
   "execution_count": 13,
   "metadata": {},
   "outputs": [
    {
     "name": "stdout",
     "output_type": "stream",
     "text": [
      "   Unnamed: 0 GISAGARA DISTRICT / GIKONKO SECTOR     Unnamed: 2   Unnamed: 3  \\\n",
      "0         NaN                                NaN            NaN          NaN   \n",
      "1          NO                              ITEMS  SERIAL NUMBER     JOB DONE   \n",
      "2           1                    Laptop hp 9470M     CNU431B1W3  MAINTENANCE   \n",
      "3           2                    Laptop hp 9470M     CNU431B4D3  MAINTENANCE   \n",
      "4           3                    Laptop hp 9470M     CNU431B3D2  MAINTENANCE   \n",
      "5           4                      Laptop hp min     2MC938CV9H  MAINTENANCE   \n",
      "6           5         Desktop Lenovo ThinkCentre        PBDDPD9  MAINTENANCE   \n",
      "7           6               Laptop Positivo BGH      375AAA6212  MAINTENANCE   \n",
      "8           7                          Laptop hp     CNU431B2D3  MAINTENANCE   \n",
      "9           8               Laptop Positivo BGH      019AAK2527  MAINTENANCE   \n",
      "10          9       Laptop Positivo BGH A 1000-R     019AAK0006  MAINTENANCE   \n",
      "11         10       Laptop Positivo BGH Acle 2-R     375AAA0058  MAINTENANCE   \n",
      "12         11                    Desktop Lenovo         PBCZFA3  MAINTENANCE   \n",
      "13         12                Laptop Positivo BGH     375AAA6183  MAINTENANCE   \n",
      "14         13    Printer hp Laserjet pro MFP125A     CNB6H38CDG          NaN   \n",
      "\n",
      "               Unnamed: 4          Unnamed: 5  \n",
      "0                     NaN                 NaN  \n",
      "1                USERNAME         SPARE NEEDS  \n",
      "2              CYIRI Cell                 NaN  \n",
      "3              MBOGO Cell                 NaN  \n",
      "4           GASAGARA Cell                 NaN  \n",
      "5                Agronome                 NaN  \n",
      "6           Customer Care   Needs V.G.A Cable  \n",
      "7             Veterinaire                 NaN  \n",
      "8            SEDO/Gikonko                 NaN  \n",
      "9            SEDO/Gikonko                 NaN  \n",
      "10          Customer Care                 NaN  \n",
      "11          Customer Care                 NaN  \n",
      "12                  Dasso                 NaN  \n",
      "13                  Dasso                 NaN  \n",
      "14  HITIMANA Jean d'Amour  Needs logical Card  \n"
     ]
    }
   ],
   "source": [
    "print(sample_data)"
   ]
  },
  {
   "cell_type": "code",
   "execution_count": 14,
   "metadata": {},
   "outputs": [],
   "source": [
    "import pandas as pd"
   ]
  },
  {
   "cell_type": "code",
   "execution_count": 19,
   "metadata": {},
   "outputs": [],
   "source": [
    "data = pd.read_excel ('product list.xlsx')"
   ]
  },
  {
   "cell_type": "code",
   "execution_count": 20,
   "metadata": {},
   "outputs": [
    {
     "name": "stdout",
     "output_type": "stream",
     "text": [
      "  PRODUCT LIST Unnamed: 1\n",
      "0     Products      Price\n",
      "1       Laptop     450000\n",
      "2     printers     300000\n",
      "3      scanner     240000\n",
      "4      Desktop     800000\n",
      "5       Tablet     200000\n",
      "6         Ipad     250000\n",
      "7        Phone     150000\n",
      "8        Radio      80000\n"
     ]
    }
   ],
   "source": [
    "print(data)"
   ]
  },
  {
   "cell_type": "code",
   "execution_count": 21,
   "metadata": {},
   "outputs": [],
   "source": [
    "data2 = pd.read_excel('Reporrt Eva.xlsx')"
   ]
  },
  {
   "cell_type": "code",
   "execution_count": 22,
   "metadata": {},
   "outputs": [
    {
     "name": "stdout",
     "output_type": "stream",
     "text": [
      "     AMZINA YIBICYENEWE                       AHO BIZAKORESHWA UMUBARE  \\\n",
      "0               Insinga             kwa animtr,mur sare,liblar       4   \n",
      "1                 Cofre                  kwa animater,mur sare       2   \n",
      "2                Fisibl                    kwa anmatr,mur sare       2   \n",
      "3                  Sock           kwa anm, mur sar,liblar,hanz      13   \n",
      "4                 Prise             kwa animatr,mur sar,liblar       7   \n",
      "5          Daubl suitch                      kwa anmatr,liblar       2   \n",
      "6          Sempl suitch                        mur sar,no hanz       3   \n",
      "7   Boute de connection             kwa animtr,mur sare,liblar       6   \n",
      "8   Boute de constromer             kwa animtr,mur sare,liblar      12   \n",
      "9        Isoretion tape           kwa anm, mur sar,liblar,hanz       6   \n",
      "10            Imisumari             kwa animtr,mur sare,liblar     1kg   \n",
      "11              Amatara           kwa anm, mur sar,liblar,hanz   9;3;1   \n",
      "12         Cable suplay               hagat ya sar no kumuriro     45m   \n",
      "13           Transiport                                    NaN     NaN   \n",
      "14             Mendevre  gukor sar,kw anm,liblr,hanz,derection     NaN   \n",
      "15               Totall                                    NaN     NaN   \n",
      "\n",
      "                IGICIRO/1    IGICIRO CYOSE  UBWOKO      TOTAL  \n",
      "0   1,5;25000 / 2,5;32000      50000/64000    0man     114000  \n",
      "1                    5000            10000    viko      10000  \n",
      "2                    4000             8000   hager       8000  \n",
      "3                     300             3900  semple       3900  \n",
      "4                    1500            10500    viko      10500  \n",
      "5                    1500             3000    viko       3000  \n",
      "6                    1500             4500    viko       4500  \n",
      "7                     400             2400  semple       2400  \n",
      "8                     200             2400  semple       2400  \n",
      "9                     500             3000    viko       3000  \n",
      "10                   2100             2100     8cm       2100  \n",
      "11         1500/2500/3500  13500/7500/3500     red      24500  \n",
      "12                   1100            49500     NaN      49500  \n",
      "13                    NaN              NaN     NaN      30000  \n",
      "14                    NaN            80000     NaN      80000  \n",
      "15                    NaN              NaN     NaN  347800rwf  \n"
     ]
    }
   ],
   "source": [
    "print(data2)"
   ]
  },
  {
   "cell_type": "code",
   "execution_count": 3,
   "metadata": {},
   "outputs": [],
   "source": [
    "data3 = pd.read_csv('product list.csv')"
   ]
  },
  {
   "cell_type": "code",
   "execution_count": 4,
   "metadata": {},
   "outputs": [
    {
     "name": "stdout",
     "output_type": "stream",
     "text": [
      "  PRODUCT LIST Unnamed: 1\n",
      "0     Products      Price\n",
      "1       Laptop     450000\n",
      "2     printers     300000\n",
      "3      scanner     240000\n",
      "4      Desktop     800000\n",
      "5       Tablet     200000\n",
      "6         Ipad     250000\n",
      "7        Phone     150000\n",
      "8        Radio      80000\n"
     ]
    }
   ],
   "source": [
    "print(data3)"
   ]
  },
  {
   "cell_type": "code",
   "execution_count": 9,
   "metadata": {},
   "outputs": [
    {
     "ename": "SyntaxError",
     "evalue": "unexpected EOF while parsing (<ipython-input-9-6afbdb2af543>, line 1)",
     "output_type": "error",
     "traceback": [
      "\u001b[1;36m  File \u001b[1;32m\"<ipython-input-9-6afbdb2af543>\"\u001b[1;36m, line \u001b[1;32m1\u001b[0m\n\u001b[1;33m    df = DataFrame(data3, Products.iloc[1]\u001b[0m\n\u001b[1;37m                                          ^\u001b[0m\n\u001b[1;31mSyntaxError\u001b[0m\u001b[1;31m:\u001b[0m unexpected EOF while parsing\n"
     ]
    }
   ],
   "source": [
    " df = DataFrame(data3, Products.iloc[1]"
   ]
  },
  {
   "cell_type": "code",
   "execution_count": 30,
   "metadata": {},
   "outputs": [
    {
     "data": {
      "text/plain": [
       "pandas.core.frame.DataFrame"
      ]
     },
     "execution_count": 30,
     "metadata": {},
     "output_type": "execute_result"
    }
   ],
   "source": [
    "type(data3)"
   ]
  },
  {
   "cell_type": "code",
   "execution_count": 36,
   "metadata": {},
   "outputs": [],
   "source": [
    "df = pd.DataFrame(data3, columns =['Price'])"
   ]
  },
  {
   "cell_type": "code",
   "execution_count": 37,
   "metadata": {},
   "outputs": [
    {
     "name": "stdout",
     "output_type": "stream",
     "text": [
      "   Price\n",
      "0    NaN\n",
      "1    NaN\n",
      "2    NaN\n",
      "3    NaN\n",
      "4    NaN\n",
      "5    NaN\n",
      "6    NaN\n",
      "7    NaN\n",
      "8    NaN\n"
     ]
    }
   ],
   "source": [
    "print (df)"
   ]
  },
  {
   "cell_type": "code",
   "execution_count": null,
   "metadata": {},
   "outputs": [],
   "source": []
  }
 ],
 "metadata": {
  "kernelspec": {
   "display_name": "Python 3",
   "language": "python",
   "name": "python3"
  },
  "language_info": {
   "codemirror_mode": {
    "name": "ipython",
    "version": 3
   },
   "file_extension": ".py",
   "mimetype": "text/x-python",
   "name": "python",
   "nbconvert_exporter": "python",
   "pygments_lexer": "ipython3",
   "version": "3.7.6"
  }
 },
 "nbformat": 4,
 "nbformat_minor": 4
}
